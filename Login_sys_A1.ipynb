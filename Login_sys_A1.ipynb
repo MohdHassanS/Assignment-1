{
  "cells": [
    {
      "cell_type": "markdown",
      "metadata": {
        "id": "view-in-github",
        "colab_type": "text"
      },
      "source": [
        "<a href=\"https://colab.research.google.com/github/MohdHassanS/Assignment-1/blob/main/Login_sys_A1.ipynb\" target=\"_parent\"><img src=\"https://colab.research.google.com/assets/colab-badge.svg\" alt=\"Open In Colab\"/></a>"
      ]
    },
    {
      "cell_type": "markdown",
      "metadata": {
        "id": "CzFqKaUFjijn"
      },
      "source": [
        "# **STAGE** 1 : **REGISTRATION**"
      ]
    },
    {
      "cell_type": "code",
      "execution_count": 14,
      "metadata": {
        "id": "8WJiZYxGxa7I"
      },
      "outputs": [],
      "source": [
        "def email_id(l,ln_of_txt_file):\n",
        "  email=input(\"Enter your Email Id : \")\n",
        "  if('@' in email and '.' in email and email.count('@')==1 and email.count('.')==1 and email[0].isalpha() and email[0].islower() and ((email.index(\".\") - email.index(\"@\"))>=4) and ((len(email)-1)-email.index('.'))==3):\n",
        "    if(email in l):\n",
        "      print(Fore.RED + \"This mail already Exist\")\n",
        "      email_id(l,ln_of_txt_file)\n",
        "    else:\n",
        "      print(Fore.GREEN + \"Email Id sucess\")\n",
        "      return email\n",
        "  else:\n",
        "    print(Fore.RED + \"Enter valid mail id Eg:'example@gmail.com'\")\n",
        "    email_id(l,ln_of_txt_file)"
      ]
    },
    {
      "cell_type": "code",
      "execution_count": 15,
      "metadata": {
        "id": "9CtiW8jOxl2O"
      },
      "outputs": [],
      "source": [
        "def pass_word():\n",
        "  password=input(\"Enter your Password : \")\n",
        "  sp_ch=0\n",
        "  one_d=0\n",
        "  one_up=0\n",
        "  one_lo=0\n",
        "  for i in password:                     #checking for one special character \n",
        "    if(i.isalpha() or i.isnumeric()):\n",
        "      pass\n",
        "    else:\n",
        "      sp_ch+=1\n",
        "      break\n",
        "  for i in password:                     #checking for one numeric or one digit\n",
        "    if(i.isnumeric()):\n",
        "      one_d+=1\n",
        "      break\n",
        "  for i in password:                     #checking for one upper case letter\n",
        "    if(i.isupper()):\n",
        "      one_up+=1\n",
        "      break\n",
        "  for i in password:                     #checking for one lower case letter\n",
        "    if(i.islower()):\n",
        "      one_lo+=1\n",
        "      break\n",
        "  if (len(password)>5 and len(password)<16 and sp_ch==1 and one_d==1 and one_up==1 and one_lo==1):\n",
        "        print(Fore.GREEN + \"Password sucess\")\n",
        "        return password\n",
        "  else:\n",
        "        print(Fore.RED + \"Must have minimum \\nOne special character \\nOne digit \\nOne uppercase \\nOne lowercase character \\nWith length greater than 5 and less than 16\")\n",
        "        pass_word()"
      ]
    },
    {
      "cell_type": "code",
      "execution_count": 16,
      "metadata": {
        "id": "igmSnDJqJtCH"
      },
      "outputs": [],
      "source": [
        "def register(l,ln_of_txt_file):\n",
        "  em=email_id(l,ln_of_txt_file)\n",
        "  pd=pass_word()\n",
        "  #print(em,'\\n',pd)\n",
        "  k=em+','+pd\n",
        "  with open(path,'a') as f:\n",
        "    f.write(k+\"\\n\")\n",
        "  print(Fore.GREEN + \"Your details updated sucessfully\\nPlease LOGIN again \")\n",
        "  print()\n",
        "  cl()"
      ]
    },
    {
      "cell_type": "markdown",
      "metadata": {
        "id": "DlnWOVzJN9A_"
      },
      "source": [
        "# STAGE 2: LOGIN VALIDATION"
      ]
    },
    {
      "cell_type": "code",
      "execution_count": 17,
      "metadata": {
        "id": "kCS8o11bBASn"
      },
      "outputs": [],
      "source": [
        "def forget_password(pos,l,ln_of_txt_file):\n",
        "  print(\"Enter your New Password Below\")\n",
        "  new_ps=pass_word()\n",
        "  #print(new_ps,l)\n",
        "  new_ps=l[pos-1]+','+new_ps+'\\n'\n",
        "  pos=pos-1\n",
        "  ln_of_txt_file[pos//2]=new_ps\n",
        "  with open(path,'w') as f:               #https://www.adamsmith.haus/python/answers/how-to-edit-a-specific-line-in-a-text-file-in-python#:~:text=Use%20file.,at%20a%20certain%20line%20number.\n",
        "    f.writelines(ln_of_txt_file)\n",
        "  print(Fore.BLACK + \"Now login again.....\")\n",
        "  return 3"
      ]
    },
    {
      "cell_type": "code",
      "execution_count": 18,
      "metadata": {
        "id": "EGLMLMFG9MOm"
      },
      "outputs": [],
      "source": [
        "def ask_paswd(pos,l,ln_of_txt_file):\n",
        "  pd=input(\"Enter your PASSWORD :\")\n",
        "  if(pd==l[pos]):\n",
        "    print()\n",
        "    print(Fore.GREEN + \"welcome back\",l[pos-1])\n",
        "    print(Fore.GREEN + \"Thank you, Hope you enjoyed it !\")\n",
        "  else:\n",
        "    print(Fore.RED + \"Incorrect Password\")\n",
        "    yn=input(\"Did you Forget your Password (y or n) : \")\n",
        "    if(yn=='y'):\n",
        "      c=forget_password(pos,l,ln_of_txt_file)\n",
        "      if(c==3):\n",
        "        return 3\n",
        "    else:\n",
        "      ask_paswd(pos,l,ln_of_txt_file)"
      ]
    },
    {
      "cell_type": "code",
      "execution_count": 19,
      "metadata": {
        "id": "t-b50QRi2cg9"
      },
      "outputs": [],
      "source": [
        "def ck_ml_id(l,ln_of_txt_file):\n",
        "  ml=input(\"Enter your Mail Id : \")\n",
        "  if(ml in l):\n",
        "    pos=l.index(ml)                             #pos of mail_id in l \n",
        "    pos=pos+1                                   #pos+1 the every next element of the maild id in list l is password \n",
        "    c=ask_paswd(pos,l,ln_of_txt_file)\n",
        "    if(c==3):\n",
        "      return 3\n",
        "  else:\n",
        "    print(Fore.RED + \"Your mail id is doesn't exsist please Enter once again correctly\\nIf you want to exit type 3 : \")\n",
        "    if(ml=='3'):\n",
        "      print(Fore.RED + \"Too many attempts you can EXIT or SIGN UP again\")\n",
        "      return 3\n",
        "    ck_ml_id(l,ln_of_txt_file)"
      ]
    },
    {
      "cell_type": "code",
      "execution_count": 20,
      "metadata": {
        "id": "wUBoDEGNwN4J"
      },
      "outputs": [],
      "source": [
        "def login(l,ln_of_txt_file):\n",
        "  c=ck_ml_id(l,ln_of_txt_file)\n",
        "  #print(c)\n",
        "  if(c==3):\n",
        "    return 3"
      ]
    },
    {
      "cell_type": "markdown",
      "metadata": {
        "id": "tULSGCXP3Pil"
      },
      "source": [
        "# STAGE 3: LOGIN OR SIGN UP"
      ]
    },
    {
      "cell_type": "code",
      "execution_count": 21,
      "metadata": {
        "id": "8dv_vgA2sq-D"
      },
      "outputs": [],
      "source": [
        "def start():\n",
        "  l=[]                                   #l=[ mail_id_1 , password_1 , maild_2 , password_2....... ]\n",
        "  ln_of_txt_file=[]                      #l_of_txt_file=[ (mail_id_1,password_1) , (maild_2,password_2),........ ]\n",
        "  with open(path,'r') as f:\n",
        "    for each in f:\n",
        "      ln_of_txt_file.append(each)\n",
        "      t=each.split(',')\n",
        "      t[1]=t[1].replace(\"\\n\",\"\")\n",
        "      for i in t:\n",
        "        l.append(i)\n",
        "  #print(l)\n",
        "  #print(ln_of_txt_file)\n",
        "  return l,ln_of_txt_file"
      ]
    },
    {
      "cell_type": "code",
      "execution_count": 22,
      "metadata": {
        "id": "FuZxWvA9tZLn"
      },
      "outputs": [],
      "source": [
        "def cl():\n",
        "  l,ln_of_txt_file=start()\n",
        "  a=input(\"0 to EXIT\\n1 to LOGIN\\n2 to SIGN UP : \\n\")\n",
        "  if(a=='1'):\n",
        "    print(Fore.BLACK + \"Welcome to LOGIN PAGE\")\n",
        "    print()\n",
        "    c=login(l,ln_of_txt_file)\n",
        "    if(c==3):\n",
        "      cl()\n",
        "  elif(a=='2'):\n",
        "    print(Fore.BLACK + \"Welcome to SIGN UP PAGE\")\n",
        "    print()\n",
        "    register(l,ln_of_txt_file)\n",
        "  elif(a=='0'):\n",
        "    print(Fore.GREEN + \"Thank you, Hope you enjoyed it !\")\n",
        "  else:\n",
        "    print(Fore.RED + \"Enter valid number \")\n",
        "    cl()"
      ]
    },
    {
      "cell_type": "code",
      "execution_count": 23,
      "metadata": {
        "colab": {
          "base_uri": "https://localhost:8080/",
          "height": 782
        },
        "id": "oh1PRDFQvdM-",
        "outputId": "5fd715bb-8549-434a-a9ce-3522e5a28cb7"
      },
      "outputs": [
        {
          "output_type": "stream",
          "name": "stdout",
          "text": [
            "Drive already mounted at /content/drive; to attempt to forcibly remount, call drive.mount(\"/content/drive\", force_remount=True).\n",
            "Looking in indexes: https://pypi.org/simple, https://us-python.pkg.dev/colab-wheels/public/simple/\n",
            "Requirement already satisfied: colorama in /usr/local/lib/python3.7/dist-packages (0.4.5)\n",
            "0 to EXIT\n",
            "1 to LOGIN\n",
            "2 to SIGN UP : \n",
            "2\n",
            "\u001b[30mWelcome to SIGN UP PAGE\n",
            "\n",
            "Enter your Email Id : ghjfg@gmail.com\n",
            "\u001b[31mThis mail already Exist\n",
            "Enter your Email Id : a123@gmail.com\n",
            "\u001b[31mThis mail already Exist\n",
            "Enter your Email Id : fghh0000@gmail.com\n",
            "\u001b[32mEmail Id sucess\n",
            "Enter your Password : 343434\n",
            "\u001b[31mMust have minimum \n",
            "One special character \n",
            "One digit \n",
            "One uppercase \n",
            "One lowercase character \n",
            "With length greater than 5 and less than 16\n",
            "Enter your Password : 1234000$Oo\n",
            "\u001b[32mPassword sucess\n"
          ]
        },
        {
          "output_type": "error",
          "ename": "TypeError",
          "evalue": "ignored",
          "traceback": [
            "\u001b[0;31m---------------------------------------------------------------------------\u001b[0m",
            "\u001b[0;31mTypeError\u001b[0m                                 Traceback (most recent call last)",
            "\u001b[0;32m<ipython-input-23-6cc452bcc7c1>\u001b[0m in \u001b[0;36m<module>\u001b[0;34m\u001b[0m\n\u001b[1;32m      6\u001b[0m \u001b[0;32mfrom\u001b[0m \u001b[0mcolorama\u001b[0m \u001b[0;32mimport\u001b[0m \u001b[0mFore\u001b[0m\u001b[0;34m\u001b[0m\u001b[0;34m\u001b[0m\u001b[0m\n\u001b[1;32m      7\u001b[0m \u001b[0mc\u001b[0m\u001b[0;34m=\u001b[0m\u001b[0;36m0\u001b[0m\u001b[0;34m\u001b[0m\u001b[0;34m\u001b[0m\u001b[0m\n\u001b[0;32m----> 8\u001b[0;31m \u001b[0mcl\u001b[0m\u001b[0;34m(\u001b[0m\u001b[0;34m)\u001b[0m\u001b[0;34m\u001b[0m\u001b[0;34m\u001b[0m\u001b[0m\n\u001b[0m",
            "\u001b[0;32m<ipython-input-22-12fd60a425f7>\u001b[0m in \u001b[0;36mcl\u001b[0;34m()\u001b[0m\n\u001b[1;32m     11\u001b[0m     \u001b[0mprint\u001b[0m\u001b[0;34m(\u001b[0m\u001b[0mFore\u001b[0m\u001b[0;34m.\u001b[0m\u001b[0mBLACK\u001b[0m \u001b[0;34m+\u001b[0m \u001b[0;34m\"Welcome to SIGN UP PAGE\"\u001b[0m\u001b[0;34m)\u001b[0m\u001b[0;34m\u001b[0m\u001b[0;34m\u001b[0m\u001b[0m\n\u001b[1;32m     12\u001b[0m     \u001b[0mprint\u001b[0m\u001b[0;34m(\u001b[0m\u001b[0;34m)\u001b[0m\u001b[0;34m\u001b[0m\u001b[0;34m\u001b[0m\u001b[0m\n\u001b[0;32m---> 13\u001b[0;31m     \u001b[0mregister\u001b[0m\u001b[0;34m(\u001b[0m\u001b[0ml\u001b[0m\u001b[0;34m,\u001b[0m\u001b[0mln_of_txt_file\u001b[0m\u001b[0;34m)\u001b[0m\u001b[0;34m\u001b[0m\u001b[0;34m\u001b[0m\u001b[0m\n\u001b[0m\u001b[1;32m     14\u001b[0m   \u001b[0;32melif\u001b[0m\u001b[0;34m(\u001b[0m\u001b[0ma\u001b[0m\u001b[0;34m==\u001b[0m\u001b[0;34m'0'\u001b[0m\u001b[0;34m)\u001b[0m\u001b[0;34m:\u001b[0m\u001b[0;34m\u001b[0m\u001b[0;34m\u001b[0m\u001b[0m\n\u001b[1;32m     15\u001b[0m     \u001b[0mprint\u001b[0m\u001b[0;34m(\u001b[0m\u001b[0mFore\u001b[0m\u001b[0;34m.\u001b[0m\u001b[0mGREEN\u001b[0m \u001b[0;34m+\u001b[0m \u001b[0;34m\"Thank you, Hope you enjoyed it !\"\u001b[0m\u001b[0;34m)\u001b[0m\u001b[0;34m\u001b[0m\u001b[0;34m\u001b[0m\u001b[0m\n",
            "\u001b[0;32m<ipython-input-16-3c481f56a7ce>\u001b[0m in \u001b[0;36mregister\u001b[0;34m(l, ln_of_txt_file)\u001b[0m\n\u001b[1;32m      3\u001b[0m   \u001b[0mpd\u001b[0m\u001b[0;34m=\u001b[0m\u001b[0mpass_word\u001b[0m\u001b[0;34m(\u001b[0m\u001b[0;34m)\u001b[0m\u001b[0;34m\u001b[0m\u001b[0;34m\u001b[0m\u001b[0m\n\u001b[1;32m      4\u001b[0m   \u001b[0;31m#print(em,'\\n',pd)\u001b[0m\u001b[0;34m\u001b[0m\u001b[0;34m\u001b[0m\u001b[0;34m\u001b[0m\u001b[0m\n\u001b[0;32m----> 5\u001b[0;31m   \u001b[0mk\u001b[0m\u001b[0;34m=\u001b[0m\u001b[0mem\u001b[0m\u001b[0;34m+\u001b[0m\u001b[0;34m','\u001b[0m\u001b[0;34m+\u001b[0m\u001b[0mpd\u001b[0m\u001b[0;34m\u001b[0m\u001b[0;34m\u001b[0m\u001b[0m\n\u001b[0m\u001b[1;32m      6\u001b[0m   \u001b[0;32mwith\u001b[0m \u001b[0mopen\u001b[0m\u001b[0;34m(\u001b[0m\u001b[0mpath\u001b[0m\u001b[0;34m,\u001b[0m\u001b[0;34m'a'\u001b[0m\u001b[0;34m)\u001b[0m \u001b[0;32mas\u001b[0m \u001b[0mf\u001b[0m\u001b[0;34m:\u001b[0m\u001b[0;34m\u001b[0m\u001b[0;34m\u001b[0m\u001b[0m\n\u001b[1;32m      7\u001b[0m     \u001b[0mf\u001b[0m\u001b[0;34m.\u001b[0m\u001b[0mwrite\u001b[0m\u001b[0;34m(\u001b[0m\u001b[0mk\u001b[0m\u001b[0;34m+\u001b[0m\u001b[0;34m\"\\n\"\u001b[0m\u001b[0;34m)\u001b[0m\u001b[0;34m\u001b[0m\u001b[0;34m\u001b[0m\u001b[0m\n",
            "\u001b[0;31mTypeError\u001b[0m: unsupported operand type(s) for +: 'NoneType' and 'str'"
          ]
        }
      ],
      "source": [
        "from google.colab import drive\n",
        "drive.mount('/content/drive')\n",
        "path='/content/drive/MyDrive/guvi/login credentials.txt'\n",
        "!pip install colorama\n",
        "import colorama\n",
        "from colorama import Fore\n",
        "c=0\n",
        "cl()"
      ]
    },
    {
      "cell_type": "markdown",
      "metadata": {
        "id": "7H6V-PSMkQFv"
      },
      "source": [
        "# rough work"
      ]
    },
    {
      "cell_type": "code",
      "execution_count": null,
      "metadata": {
        "id": "xWXb5SC-z-r2"
      },
      "outputs": [],
      "source": [
        "# to clear the text doc use this once\n",
        "'''\n",
        "path='/content/drive/MyDrive/guvi/login credentials.txt'\n",
        "with open(path,'w') as f:\n",
        "  f.write(\"\")\n",
        "'''"
      ]
    },
    {
      "cell_type": "code",
      "source": [],
      "metadata": {
        "id": "YIZ1HCtOOOd1"
      },
      "execution_count": null,
      "outputs": []
    }
  ],
  "metadata": {
    "colab": {
      "collapsed_sections": [
        "DlnWOVzJN9A_",
        "7H6V-PSMkQFv"
      ],
      "provenance": [],
      "authorship_tag": "ABX9TyOhea1ZNtCj8wMhSbFa7QGS",
      "include_colab_link": true
    },
    "kernelspec": {
      "display_name": "Python 3",
      "name": "python3"
    },
    "language_info": {
      "name": "python"
    }
  },
  "nbformat": 4,
  "nbformat_minor": 0
}