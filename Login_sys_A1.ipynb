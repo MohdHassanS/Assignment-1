{
  "cells": [
    {
      "cell_type": "markdown",
      "metadata": {
        "id": "view-in-github",
        "colab_type": "text"
      },
      "source": [
        "<a href=\"https://colab.research.google.com/github/MohdHassanS/Assignment-1/blob/main/Login_sys_A1.ipynb\" target=\"_parent\"><img src=\"https://colab.research.google.com/assets/colab-badge.svg\" alt=\"Open In Colab\"/></a>"
      ]
    },
    {
      "cell_type": "markdown",
      "metadata": {
        "id": "CzFqKaUFjijn"
      },
      "source": [
        "# **STAGE** 1 : **REGISTRATION**"
      ]
    },
    {
      "cell_type": "markdown",
      "source": [
        "This check whether for valid Mail Id"
      ],
      "metadata": {
        "id": "ZItIrOLJji-4"
      }
    },
    {
      "cell_type": "code",
      "execution_count": 77,
      "metadata": {
        "id": "8WJiZYxGxa7I"
      },
      "outputs": [],
      "source": [
        "def email_id(l,ln_of_txt_file):\n",
        "  email=input(\"Enter your Email Id : \")\n",
        "  if('@' in email and '.' in email and email.count('@')==1 and email.count('.')==1 and email[0].isalpha() and email[0].islower() and ((email.index(\".\") - email.index(\"@\"))>=4) and ((len(email)-1)-email.index('.'))==3):\n",
        "    if(email in l):\n",
        "      print(Fore.RED + \"This mail already Exist\")\n",
        "      email_id(l,ln_of_txt_file)\n",
        "    else:\n",
        "      print(Fore.GREEN + \"Email Id sucess\")\n",
        "      return email\n",
        "  else:\n",
        "    print(Fore.RED + \"Enter valid mail id Eg:'example@gmail.com'\")\n",
        "    email_id(l,ln_of_txt_file)"
      ]
    },
    {
      "cell_type": "markdown",
      "source": [
        "This check for valid Password"
      ],
      "metadata": {
        "id": "wwLsHo0xj5qm"
      }
    },
    {
      "cell_type": "code",
      "execution_count": 78,
      "metadata": {
        "id": "9CtiW8jOxl2O"
      },
      "outputs": [],
      "source": [
        "def pass_word():\n",
        "  password=input(\"Enter your Password : \")\n",
        "  sp_ch=0\n",
        "  one_d=0\n",
        "  one_up=0\n",
        "  one_lo=0\n",
        "  for i in password:                     #checking for one special character \n",
        "    if(i.isalpha() or i.isnumeric()):\n",
        "      pass\n",
        "    else:\n",
        "      sp_ch+=1\n",
        "      break\n",
        "  for i in password:                     #checking for one numeric or one digit\n",
        "    if(i.isnumeric()):\n",
        "      one_d+=1\n",
        "      break\n",
        "  for i in password:                     #checking for one upper case letter\n",
        "    if(i.isupper()):\n",
        "      one_up+=1\n",
        "      break\n",
        "  for i in password:                     #checking for one lower case letter\n",
        "    if(i.islower()):\n",
        "      one_lo+=1\n",
        "      break\n",
        "  if (len(password)>5 and len(password)<16 and sp_ch==1 and one_d==1 and one_up==1 and one_lo==1):\n",
        "        print(Fore.GREEN + \"Password sucess\")\n",
        "        return password\n",
        "  else:\n",
        "        print(Fore.RED + \"Must have minimum \\nOne special character \\nOne digit \\nOne uppercase \\nOne lowercase character \\nWith length greater than 5 and less than 16\")\n",
        "        pass_word()"
      ]
    },
    {
      "cell_type": "markdown",
      "source": [
        "The valid Maild Id and Password get stored into a text Document"
      ],
      "metadata": {
        "id": "c19yyecOkJNP"
      }
    },
    {
      "cell_type": "code",
      "execution_count": 79,
      "metadata": {
        "id": "igmSnDJqJtCH"
      },
      "outputs": [],
      "source": [
        "def register(l,ln_of_txt_file):\n",
        "  em=email_id(l,ln_of_txt_file)\n",
        "  pd=pass_word()\n",
        "  #print(em,'\\n',pd)\n",
        "  k=em+','+pd\n",
        "  with open(path,'a') as f:\n",
        "    f.write(k+\"\\n\")\n",
        "  print(Fore.GREEN + \"Your details updated sucessfully\\nPlease LOGIN again \")\n",
        "  print()\n",
        "  cl()"
      ]
    },
    {
      "cell_type": "markdown",
      "metadata": {
        "id": "DlnWOVzJN9A_"
      },
      "source": [
        "# STAGE 2: LOGIN VALIDATION"
      ]
    },
    {
      "cell_type": "markdown",
      "source": [
        "we can change password if we forget it"
      ],
      "metadata": {
        "id": "BnlYrU-dnGaI"
      }
    },
    {
      "cell_type": "code",
      "execution_count": 80,
      "metadata": {
        "id": "kCS8o11bBASn"
      },
      "outputs": [],
      "source": [
        "def forget_password(pos,l,ln_of_txt_file):\n",
        "  print(\"Enter your New Password Below\")\n",
        "  new_ps=pass_word()\n",
        "  #print(new_ps,l)\n",
        "  new_ps=l[pos-1]+','+new_ps+'\\n'\n",
        "  pos=pos-1\n",
        "  ln_of_txt_file[pos//2]=new_ps\n",
        "  with open(path,'w') as f:               #https://www.adamsmith.haus/python/answers/how-to-edit-a-specific-line-in-a-text-file-in-python#:~:text=Use%20file.,at%20a%20certain%20line%20number.\n",
        "    f.writelines(ln_of_txt_file)\n",
        "  print(Fore.BLACK + \"Now login again.....\")\n",
        "  return 3"
      ]
    },
    {
      "cell_type": "markdown",
      "source": [
        "ask password to access to your exsisting account"
      ],
      "metadata": {
        "id": "JdqLG0a_noyY"
      }
    },
    {
      "cell_type": "code",
      "execution_count": 81,
      "metadata": {
        "id": "EGLMLMFG9MOm"
      },
      "outputs": [],
      "source": [
        "def ask_paswd(pos,l,ln_of_txt_file):\n",
        "  pd=input(\"Enter your PASSWORD :\")\n",
        "  if(pd==l[pos]):\n",
        "    print()\n",
        "    print(Fore.GREEN + \"welcome back\",l[pos-1])\n",
        "    print(Fore.GREEN + \"Thank you, Hope you enjoyed it !\")\n",
        "  else:\n",
        "    print(Fore.RED + \"Incorrect Password\")\n",
        "    yn=input(\"Did you Forget your Password (y or n) : \")\n",
        "    if(yn=='y'):\n",
        "      c=forget_password(pos,l,ln_of_txt_file)\n",
        "      if(c==3):\n",
        "        return 3\n",
        "    else:\n",
        "      ask_paswd(pos,l,ln_of_txt_file)"
      ]
    },
    {
      "cell_type": "markdown",
      "source": [
        "Mail id verification if you already have an account"
      ],
      "metadata": {
        "id": "r-TPMZ0ooJTV"
      }
    },
    {
      "cell_type": "code",
      "execution_count": 82,
      "metadata": {
        "id": "t-b50QRi2cg9"
      },
      "outputs": [],
      "source": [
        "def ck_ml_id(l,ln_of_txt_file):\n",
        "  ml=input(\"Enter your Mail Id : \")\n",
        "  if(ml in l):\n",
        "    pos=l.index(ml)                             #pos of mail_id in l \n",
        "    pos=pos+1                                   #pos+1 the every next element of the maild id in list l is password \n",
        "    c=ask_paswd(pos,l,ln_of_txt_file)\n",
        "    if(c==3):\n",
        "      return 3\n",
        "  else:\n",
        "    print(Fore.RED + \"Your mail id is doesn't exsist please Enter once again correctly\\nIf you want to exit type 3 : \")\n",
        "    if(ml=='3'):\n",
        "      print(Fore.RED + \"Too many attempts you can EXIT or SIGN UP again\")\n",
        "      return 3\n",
        "    ck_ml_id(l,ln_of_txt_file)"
      ]
    },
    {
      "cell_type": "markdown",
      "source": [
        "cell for Login"
      ],
      "metadata": {
        "id": "ppa-z8ivocnm"
      }
    },
    {
      "cell_type": "code",
      "execution_count": 83,
      "metadata": {
        "id": "wUBoDEGNwN4J"
      },
      "outputs": [],
      "source": [
        "def login(l,ln_of_txt_file):\n",
        "  c=ck_ml_id(l,ln_of_txt_file)\n",
        "  #print(c)\n",
        "  if(c==3):\n",
        "    return 3"
      ]
    },
    {
      "cell_type": "markdown",
      "metadata": {
        "id": "tULSGCXP3Pil"
      },
      "source": [
        "# STAGE 3: LOGIN OR SIGN UP"
      ]
    },
    {
      "cell_type": "markdown",
      "source": [
        "It will get the registered users details from the document and keep it ready to access it."
      ],
      "metadata": {
        "id": "O06ELisupJHj"
      }
    },
    {
      "cell_type": "code",
      "execution_count": 84,
      "metadata": {
        "id": "8dv_vgA2sq-D"
      },
      "outputs": [],
      "source": [
        "def start():\n",
        "  l=[]                                   #l=[ mail_id_1 , password_1 , maild_2 , password_2....... ]\n",
        "  ln_of_txt_file=[]                      #l_of_txt_file=[ (mail_id_1,password_1) , (maild_2,password_2),........ ]\n",
        "  with open(path,'r') as f:\n",
        "    for each in f:\n",
        "      ln_of_txt_file.append(each)\n",
        "      t=each.split(',')\n",
        "      t[1]=t[1].replace(\"\\n\",\"\")\n",
        "      for i in t:\n",
        "        l.append(i)\n",
        "  #print(l)\n",
        "  #print(ln_of_txt_file)\n",
        "  return l,ln_of_txt_file"
      ]
    },
    {
      "cell_type": "markdown",
      "source": [
        "cell which decides what to do?"
      ],
      "metadata": {
        "id": "dq-LEbqIqC_S"
      }
    },
    {
      "cell_type": "code",
      "execution_count": 85,
      "metadata": {
        "id": "FuZxWvA9tZLn"
      },
      "outputs": [],
      "source": [
        "def cl():\n",
        "  l,ln_of_txt_file=start()\n",
        "  a=input(\"0 to EXIT\\n1 to LOGIN\\n2 to SIGN UP : \\n\")\n",
        "  if(a=='1'):\n",
        "    print(Fore.BLACK + \"Welcome to LOGIN PAGE\")\n",
        "    print()\n",
        "    c=login(l,ln_of_txt_file)\n",
        "    if(c==3):\n",
        "      cl()\n",
        "  elif(a=='2'):\n",
        "    print(Fore.BLACK + \"Welcome to SIGN UP PAGE\")\n",
        "    print()\n",
        "    register(l,ln_of_txt_file)\n",
        "  elif(a=='0'):\n",
        "    print(Fore.GREEN + \"Thank you, Hope you enjoyed it !\")\n",
        "  else:\n",
        "    print(Fore.RED + \"Enter valid number \")\n",
        "    cl()"
      ]
    },
    {
      "cell_type": "markdown",
      "source": [
        "connect with google drive to access or modify the user details"
      ],
      "metadata": {
        "id": "xycS_zY_qPNi"
      }
    },
    {
      "cell_type": "code",
      "execution_count": 88,
      "metadata": {
        "colab": {
          "base_uri": "https://localhost:8080/"
        },
        "id": "oh1PRDFQvdM-",
        "outputId": "dbe3ffac-4cd7-442c-f3e2-4cac328cc848"
      },
      "outputs": [
        {
          "output_type": "stream",
          "name": "stdout",
          "text": [
            "Drive already mounted at /content/drive; to attempt to forcibly remount, call drive.mount(\"/content/drive\", force_remount=True).\n",
            "0 to EXIT\n",
            "1 to LOGIN\n",
            "2 to SIGN UP : \n",
            "2\n",
            "\u001b[30mWelcome to SIGN UP PAGE\n",
            "\n",
            "Enter your Email Id : mdsultan@gmail.com\n",
            "\u001b[32mEmail Id sucess\n",
            "Enter your Password : 123@sultaN\n",
            "\u001b[32mPassword sucess\n",
            "mdsultan@gmail.com \n",
            " 123@sultaN\n",
            "\u001b[32mYour details updated sucessfully\n",
            "Please LOGIN again \n",
            "\n",
            "0 to EXIT\n",
            "1 to LOGIN\n",
            "2 to SIGN UP : \n",
            "1\n",
            "\u001b[30mWelcome to LOGIN PAGE\n",
            "\n",
            "Enter your Mail Id : mdsultan@gmail.com\n",
            "Enter your PASSWORD :123\n",
            "\u001b[31mIncorrect Password\n",
            "Did you Forget your Password (y or n) : y\n",
            "Enter your New Password Below\n",
            "Enter your Password : Sultan@123\n",
            "\u001b[32mPassword sucess\n",
            "\u001b[30mNow login again.....\n",
            "0 to EXIT\n",
            "1 to LOGIN\n",
            "2 to SIGN UP : \n",
            "1\n",
            "\u001b[30mWelcome to LOGIN PAGE\n",
            "\n",
            "Enter your Mail Id : mdsultan@gmail.com\n",
            "Enter your PASSWORD :1\n",
            "\u001b[31mIncorrect Password\n",
            "Did you Forget your Password (y or n) : n\n",
            "Enter your PASSWORD :Sultan@123\n",
            "\n",
            "\u001b[32mwelcome back mdsultan@gmail.com\n",
            "\u001b[32mThank you, Hope you enjoyed it !\n"
          ]
        }
      ],
      "source": [
        "from google.colab import drive\n",
        "drive.mount('/content/drive')\n",
        "path='/content/drive/MyDrive/guvi/login credentials.txt'\n",
        "#!pip install colorama\n",
        "import colorama\n",
        "from colorama import Fore\n",
        "c=0\n",
        "cl()"
      ]
    },
    {
      "cell_type": "markdown",
      "metadata": {
        "id": "7H6V-PSMkQFv"
      },
      "source": [
        "# rough work"
      ]
    },
    {
      "cell_type": "code",
      "execution_count": null,
      "metadata": {
        "id": "xWXb5SC-z-r2"
      },
      "outputs": [],
      "source": [
        "# to clear the text doc use this once\n",
        "'''\n",
        "path='/content/drive/MyDrive/guvi/login credentials.txt'\n",
        "with open(path,'w') as f:\n",
        "  f.write(\"\")\n",
        "'''"
      ]
    },
    {
      "cell_type": "code",
      "source": [],
      "metadata": {
        "id": "YIZ1HCtOOOd1"
      },
      "execution_count": null,
      "outputs": []
    }
  ],
  "metadata": {
    "colab": {
      "collapsed_sections": [
        "DlnWOVzJN9A_",
        "7H6V-PSMkQFv"
      ],
      "provenance": [],
      "authorship_tag": "ABX9TyNvfqSjUeCz11RACub7X2op",
      "include_colab_link": true
    },
    "kernelspec": {
      "display_name": "Python 3",
      "name": "python3"
    },
    "language_info": {
      "name": "python"
    }
  },
  "nbformat": 4,
  "nbformat_minor": 0
}